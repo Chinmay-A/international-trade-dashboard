{
 "cells": [
  {
   "cell_type": "code",
   "execution_count": 23,
   "id": "afc0c9e2",
   "metadata": {},
   "outputs": [],
   "source": [
    "import pandas as pd\n",
    "import numpy as np\n",
    "from matplotlib import pyplot as plt\n",
    "import json"
   ]
  },
  {
   "cell_type": "code",
   "execution_count": 2,
   "id": "7ea4fd7e",
   "metadata": {},
   "outputs": [],
   "source": [
    "df=pd.read_csv('2010_2021_HS2_export.csv')"
   ]
  },
  {
   "cell_type": "code",
   "execution_count": 25,
   "id": "dbf134ca",
   "metadata": {},
   "outputs": [],
   "source": [
    "def to_json(filename,file):\n",
    "    with open(filename,'w') as jfile:\n",
    "        json.dump(file,jfile,indent=4)\n",
    "    return"
   ]
  },
  {
   "cell_type": "markdown",
   "id": "2263ff99",
   "metadata": {},
   "source": [
    "# Generating Country and Year Level Data"
   ]
  },
  {
   "cell_type": "code",
   "execution_count": 14,
   "id": "ce6a6daa",
   "metadata": {},
   "outputs": [],
   "source": [
    "cvals={}"
   ]
  },
  {
   "cell_type": "code",
   "execution_count": 15,
   "id": "b5782169",
   "metadata": {},
   "outputs": [],
   "source": [
    "comms=set(df['Commodity'])"
   ]
  },
  {
   "cell_type": "code",
   "execution_count": 30,
   "id": "35fd5419",
   "metadata": {},
   "outputs": [],
   "source": [
    "for comm in comms:\n",
    "    \n",
    "    cdf=df[df['Commodity']==comm]\n",
    "    cdf=cdf.fillna(0)\n",
    "    cvals[comm]=int(sum(cdf['value']))"
   ]
  },
  {
   "cell_type": "code",
   "execution_count": 36,
   "id": "7a65a4e1",
   "metadata": {},
   "outputs": [],
   "source": [
    "ncvals={}\n",
    "\n",
    "for key in cvals.keys():\n",
    "    ncvals[key.split(' ')[0]]=cvals[key]"
   ]
  },
  {
   "cell_type": "code",
   "execution_count": 38,
   "id": "486bee58",
   "metadata": {},
   "outputs": [
    {
     "data": {
      "text/plain": [
       "{2010, 2011, 2012, 2013, 2014, 2015, 2016, 2017, 2018, 2019, 2020, 2021}"
      ]
     },
     "execution_count": 38,
     "metadata": {},
     "output_type": "execute_result"
    }
   ],
   "source": [
    "set(df['year'])"
   ]
  },
  {
   "cell_type": "code",
   "execution_count": 39,
   "id": "2393168c",
   "metadata": {},
   "outputs": [],
   "source": [
    "years=set(df['year'])\n",
    "\n",
    "ydict={}\n",
    "\n",
    "for year in years:\n",
    "    cdf=df[df['year']==year]\n",
    "    cdf=cdf.fillna(0)\n",
    "    \n",
    "    ydict[year]=sum(cdf['value'])\n",
    "    \n",
    "    "
   ]
  },
  {
   "cell_type": "code",
   "execution_count": 40,
   "id": "b31de186",
   "metadata": {},
   "outputs": [
    {
     "data": {
      "text/plain": [
       "{2016: 275835.2699999999,\n",
       " 2017: 303507.8500000001,\n",
       " 2018: 330058.6400000003,\n",
       " 2019: 313341.1400000011,\n",
       " 2020: 291789.460000001,\n",
       " 2021: 421984.3700000034,\n",
       " 2010: 249801.17999999932,\n",
       " 2011: 305948.28000000224,\n",
       " 2012: 300384.3200000004,\n",
       " 2013: 314388.6100000009,\n",
       " 2014: 310321.020000002,\n",
       " 2015: 262274.30000000016}"
      ]
     },
     "execution_count": 40,
     "metadata": {},
     "output_type": "execute_result"
    }
   ],
   "source": [
    "ydict"
   ]
  },
  {
   "cell_type": "code",
   "execution_count": 4,
   "id": "6de3bcbf",
   "metadata": {},
   "outputs": [],
   "source": [
    "to_json('stata.json',ncvals)\n",
    "to_json('statb.json',ydict)"
   ]
  },
  {
   "cell_type": "markdown",
   "id": "4b99dcd3",
   "metadata": {},
   "source": [
    "# Generating Year Level Data by Country"
   ]
  },
  {
   "cell_type": "code",
   "execution_count": 12,
   "id": "73e8a2d4",
   "metadata": {},
   "outputs": [],
   "source": [
    "master_dict={}"
   ]
  },
  {
   "cell_type": "code",
   "execution_count": 6,
   "id": "e0c1691f",
   "metadata": {},
   "outputs": [
    {
     "data": {
      "text/html": [
       "<div>\n",
       "<style scoped>\n",
       "    .dataframe tbody tr th:only-of-type {\n",
       "        vertical-align: middle;\n",
       "    }\n",
       "\n",
       "    .dataframe tbody tr th {\n",
       "        vertical-align: top;\n",
       "    }\n",
       "\n",
       "    .dataframe thead th {\n",
       "        text-align: right;\n",
       "    }\n",
       "</style>\n",
       "<table border=\"1\" class=\"dataframe\">\n",
       "  <thead>\n",
       "    <tr style=\"text-align: right;\">\n",
       "      <th></th>\n",
       "      <th>HSCode</th>\n",
       "      <th>Commodity</th>\n",
       "      <th>value</th>\n",
       "      <th>country</th>\n",
       "      <th>year</th>\n",
       "    </tr>\n",
       "  </thead>\n",
       "  <tbody>\n",
       "    <tr>\n",
       "      <th>0</th>\n",
       "      <td>2</td>\n",
       "      <td>MEAT AND EDIBLE MEAT OFFAL.</td>\n",
       "      <td>1.40</td>\n",
       "      <td>AFGHANISTAN</td>\n",
       "      <td>2010</td>\n",
       "    </tr>\n",
       "    <tr>\n",
       "      <th>1</th>\n",
       "      <td>3</td>\n",
       "      <td>FISH AND CRUSTACEANS, MOLLUSCS AND OTHER AQUAT...</td>\n",
       "      <td>0.08</td>\n",
       "      <td>AFGHANISTAN</td>\n",
       "      <td>2010</td>\n",
       "    </tr>\n",
       "    <tr>\n",
       "      <th>2</th>\n",
       "      <td>4</td>\n",
       "      <td>DAIRY PRODUCE; BIRDS' EGGS; NATURAL HONEY; EDI...</td>\n",
       "      <td>3.89</td>\n",
       "      <td>AFGHANISTAN</td>\n",
       "      <td>2010</td>\n",
       "    </tr>\n",
       "    <tr>\n",
       "      <th>3</th>\n",
       "      <td>5</td>\n",
       "      <td>PRODUCTS OF ANIMAL ORIGIN, NOT ELSEWHERE SPECI...</td>\n",
       "      <td>NaN</td>\n",
       "      <td>AFGHANISTAN</td>\n",
       "      <td>2010</td>\n",
       "    </tr>\n",
       "    <tr>\n",
       "      <th>4</th>\n",
       "      <td>6</td>\n",
       "      <td>LIVE TREES AND OTHER PLANTS; BULBS; ROOTS AND ...</td>\n",
       "      <td>NaN</td>\n",
       "      <td>AFGHANISTAN</td>\n",
       "      <td>2010</td>\n",
       "    </tr>\n",
       "  </tbody>\n",
       "</table>\n",
       "</div>"
      ],
      "text/plain": [
       "   HSCode                                          Commodity  value  \\\n",
       "0       2                        MEAT AND EDIBLE MEAT OFFAL.   1.40   \n",
       "1       3  FISH AND CRUSTACEANS, MOLLUSCS AND OTHER AQUAT...   0.08   \n",
       "2       4  DAIRY PRODUCE; BIRDS' EGGS; NATURAL HONEY; EDI...   3.89   \n",
       "3       5  PRODUCTS OF ANIMAL ORIGIN, NOT ELSEWHERE SPECI...    NaN   \n",
       "4       6  LIVE TREES AND OTHER PLANTS; BULBS; ROOTS AND ...    NaN   \n",
       "\n",
       "       country  year  \n",
       "0  AFGHANISTAN  2010  \n",
       "1  AFGHANISTAN  2010  \n",
       "2  AFGHANISTAN  2010  \n",
       "3  AFGHANISTAN  2010  \n",
       "4  AFGHANISTAN  2010  "
      ]
     },
     "execution_count": 6,
     "metadata": {},
     "output_type": "execute_result"
    }
   ],
   "source": [
    "df.head()"
   ]
  },
  {
   "cell_type": "code",
   "execution_count": 7,
   "id": "2fab399a",
   "metadata": {},
   "outputs": [],
   "source": [
    "countries=set(df['country'])"
   ]
  },
  {
   "cell_type": "code",
   "execution_count": 9,
   "id": "c044113f",
   "metadata": {},
   "outputs": [],
   "source": [
    "years=set(df['year'])"
   ]
  },
  {
   "cell_type": "code",
   "execution_count": 10,
   "id": "2810c0dc",
   "metadata": {},
   "outputs": [],
   "source": [
    "df=df.fillna(0)"
   ]
  },
  {
   "cell_type": "code",
   "execution_count": 13,
   "id": "f167d636",
   "metadata": {},
   "outputs": [],
   "source": [
    "for country in countries:\n",
    "    cdict={}\n",
    "    cdf=df[df['country']==country]\n",
    "    for year in years:\n",
    "        cydf=cdf[cdf['year']==year]\n",
    "        cdict[year]=sum(cydf['value'])\n",
    "    \n",
    "    master_dict[country]=cdict"
   ]
  },
  {
   "cell_type": "code",
   "execution_count": 26,
   "id": "3dc34e0c",
   "metadata": {},
   "outputs": [],
   "source": [
    "to_json('statc.json',master_dict)"
   ]
  },
  {
   "cell_type": "markdown",
   "id": "ea6043ae",
   "metadata": {},
   "source": [
    "# Commodity by Year"
   ]
  },
  {
   "cell_type": "code",
   "execution_count": 33,
   "id": "b7373ef5",
   "metadata": {},
   "outputs": [],
   "source": [
    "mdict={}"
   ]
  },
  {
   "cell_type": "code",
   "execution_count": 28,
   "id": "312e4b41",
   "metadata": {},
   "outputs": [],
   "source": [
    "commodities=set(df['Commodity'])"
   ]
  },
  {
   "cell_type": "code",
   "execution_count": 35,
   "id": "73b7e96f",
   "metadata": {},
   "outputs": [],
   "source": [
    "for commodity in commodities:\n",
    "    cdict={}\n",
    "    cdf=df[df['Commodity']==commodity]\n",
    "    \n",
    "    for year in years:\n",
    "        cdict[year]=sum(cdf[cdf['year']==year]['value'])\n",
    "    mdict[commodity.split(' ')[0]]=cdict"
   ]
  },
  {
   "cell_type": "code",
   "execution_count": 37,
   "id": "dcfdb506",
   "metadata": {},
   "outputs": [],
   "source": [
    "to_json('statd.json',mdict)"
   ]
  }
 ],
 "metadata": {
  "kernelspec": {
   "display_name": "Python 3 (ipykernel)",
   "language": "python",
   "name": "python3"
  },
  "language_info": {
   "codemirror_mode": {
    "name": "ipython",
    "version": 3
   },
   "file_extension": ".py",
   "mimetype": "text/x-python",
   "name": "python",
   "nbconvert_exporter": "python",
   "pygments_lexer": "ipython3",
   "version": "3.10.5"
  }
 },
 "nbformat": 4,
 "nbformat_minor": 5
}
